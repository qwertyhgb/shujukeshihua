{
 "cells": [
  {
   "cell_type": "code",
   "execution_count": 5,
   "metadata": {},
   "outputs": [
    {
     "ename": "AttributeError",
     "evalue": "'Pie' object has no attribute 'rander_notebook'",
     "output_type": "error",
     "traceback": [
      "\u001b[1;31m---------------------------------------------------------------------------\u001b[0m",
      "\u001b[1;31mAttributeError\u001b[0m                            Traceback (most recent call last)",
      "Input \u001b[1;32mIn [5]\u001b[0m, in \u001b[0;36m<cell line: 23>\u001b[1;34m()\u001b[0m\n\u001b[0;32m     10\u001b[0m c \u001b[38;5;241m=\u001b[39m (\n\u001b[0;32m     11\u001b[0m     Pie()\n\u001b[0;32m     12\u001b[0m     \u001b[38;5;241m.\u001b[39madd(\n\u001b[1;32m   (...)\u001b[0m\n\u001b[0;32m     19\u001b[0m     \u001b[38;5;241m.\u001b[39mset_series_opts(label_opts\u001b[38;5;241m=\u001b[39mopts\u001b[38;5;241m.\u001b[39mLabelOpts(is_show\u001b[38;5;241m=\u001b[39m\u001b[38;5;28;01mTrue\u001b[39;00m, formatter\u001b[38;5;241m=\u001b[39m\u001b[38;5;124m\"\u001b[39m\u001b[38;5;132;01m{b}\u001b[39;00m\u001b[38;5;124m: \u001b[39m\u001b[38;5;132;01m{d}\u001b[39;00m\u001b[38;5;124m%\u001b[39m\u001b[38;5;124m\"\u001b[39m))\n\u001b[0;32m     20\u001b[0m )\n\u001b[0;32m     22\u001b[0m \u001b[38;5;66;03m# c.render('./html/vote_result.html')\u001b[39;00m\n\u001b[1;32m---> 23\u001b[0m \u001b[43mc\u001b[49m\u001b[38;5;241;43m.\u001b[39;49m\u001b[43mrander_notebook\u001b[49m()\n",
      "\u001b[1;31mAttributeError\u001b[0m: 'Pie' object has no attribute 'rander_notebook'"
     ]
    }
   ],
   "source": [
    "# 饼图\n",
    "\n",
    "from pyecharts.charts import Pie\n",
    "import pyecharts.options as opts\n",
    "import pandas as pd\n",
    "\n",
    "vote_result = pd.read_csv('./data/第四章数据/vote_result.csv')\n",
    "# data = [list(z) for z in zip(vote_result['Areas_of_interest'], vote_result['Votes'])]\n",
    "\n",
    "c = (\n",
    "    Pie()\n",
    "    .add(\n",
    "        series_name=\"饼图\",\n",
    "        data_pair=vote_result.values.tolist(),\n",
    "        # data_pair=data,\n",
    "        # label_opts=opts.LabelOpts(is_show=True),\n",
    "    )\n",
    "    .set_global_opts(legend_opts=opts.LegendOpts(pos_right='right', pos_top='Top', orient=\"vertical\"))\n",
    "    .set_series_opts(label_opts=opts.LabelOpts(is_show=True, formatter=\"{b}: {d}%\"))\n",
    ")\n",
    "\n",
    "# c.render('./html/vote_result.html')\n",
    "c.rander_notebook()"
   ]
  },
  {
   "cell_type": "code",
   "execution_count": 11,
   "metadata": {},
   "outputs": [
    {
     "data": {
      "text/plain": [
       "'e:\\\\MyCode\\\\pyecharts\\\\html\\\\vote_result2.html'"
      ]
     },
     "execution_count": 11,
     "metadata": {},
     "output_type": "execute_result"
    }
   ],
   "source": [
    "import pandas as pd\n",
    "from pyecharts.charts import Pie\n",
    "from pyecharts import options as opts\n",
    " \n",
    "data = pd.read_csv(\"./data/第四章数据/vote_result.csv\")\n",
    " \n",
    "pie = (\n",
    "       Pie()\n",
    "       .add('interest',data.values.tolist(),radius=[80,150])\n",
    "       .set_global_opts(title_opts=opts.TitleOpts(title=\"用户感兴趣的领域\",\n",
    "                                                  subtitle=\"以下是读者投票结果\",\n",
    "                                                  pos_left=\"medil\",\n",
    "                                                  pos_top='Top',\n",
    "                                                  pos_bottom=\"center\"),\n",
    "                        legend_opts=opts.LegendOpts(pos_right=\"right\",\n",
    "                                                    orient=\"vertical\"),\n",
    "       )\n",
    "       )\n",
    "pie.render(\"./h tml/vote_result2.html\")"
   ]
  },
  {
   "cell_type": "markdown",
   "metadata": {},
   "source": []
  },
  {
   "cell_type": "code",
   "execution_count": 3,
   "metadata": {},
   "outputs": [
    {
     "data": {
      "text/plain": [
       "'e:\\\\MyCode\\\\pyecharts\\\\html\\\\presidential_approval_rate.html'"
      ]
     },
     "execution_count": 3,
     "metadata": {},
     "output_type": "execute_result"
    }
   ],
   "source": [
    "from pyecharts.charts import Bar\n",
    "import pyecharts.options as opts\n",
    "import pandas as pd\n",
    "\n",
    "pre_approval_rate = pd.read_csv('./data/第四章数据/presidential_approval_rate.csv')\n",
    "\n",
    "datax = list(pre_approval_rate['political_issue'])\n",
    "datay1 = list(pre_approval_rate['support'])\n",
    "datay2 = list(pre_approval_rate['oppose'])\n",
    "datay3 = list(pre_approval_rate['no_opinion'])\n",
    "\n",
    "bar = (\n",
    "    Bar()\n",
    "    .add_xaxis(xaxis_data=datax)\n",
    "    .add_yaxis(\"支持\", y_axis=datay1, stack=True)\n",
    "    .add_yaxis(\"反对\", y_axis=datay2, stack=True)\n",
    "    .add_yaxis(\"不发表意见\", y_axis=datay3, stack=True)\n",
    ")\n",
    "\n",
    "bar.render(\"./html/presidential_approval_rate.html\")"
   ]
  },
  {
   "cell_type": "code",
   "execution_count": 42,
   "metadata": {},
   "outputs": [
    {
     "data": {
      "text/plain": [
       "'e:\\\\MyCode\\\\pyecharts\\\\html\\\\us_population_by_age.html'"
      ]
     },
     "execution_count": 42,
     "metadata": {},
     "output_type": "execute_result"
    }
   ],
   "source": [
    "from pyecharts.charts import Line\n",
    "import pyecharts.options as opts\n",
    "import pandas as pd\n",
    "\n",
    "year_population_age = pd.read_csv('./data/第四章数据/us_population_by_age.csv')\n",
    "datax = list(year_population_age['year'])\n",
    "datay1 = list(year_population_age['year_under5'])\n",
    "datay2 = list(year_population_age['year5_19'])\n",
    "datay3 = list(year_population_age['year20_44'])\n",
    "datay4 = list(year_population_age['year45_64'])\n",
    "datay5 = list(year_population_age['year65above'])\n",
    "\n",
    "line = (\n",
    "    Line()\n",
    "    .add_xaxis(xaxis_data=datax)\n",
    "    .add_yaxis(\"5岁以下\", y_axis=datay1, color='orange', stack=True, symbol='diamond', symbol_size=10)\n",
    "    .add_yaxis(\"5至19岁\", y_axis=datay2, color='yellow', stack=True, symbol='triangle', symbol_size=10)\n",
    "    .add_yaxis(\"20至44岁\", y_axis=datay3, color='green', stack=True, symbol='roundRect', symbol_size=10)\n",
    "    .add_yaxis(\"45至64岁\", y_axis=datay4, color='blue', stack=True, symbol='rect', symbol_size=10)\n",
    "    .add_yaxis(\"65岁以上\", y_axis=datay5, color='red', stack=True, symbol='circle', symbol_size=10)\n",
    "    .set_series_opts(label_opts=opts.LabelOpts(is_show=False), areastyle_opts=opts.AreaStyleOpts(opacity=0.2), markpoint_opts=opts.MarkAreaItem(type_='max'))\n",
    "    .set_global_opts(legend_opts=opts.LegendOpts(pos_right='right'), title_opts=opts.TitleOpts(title='人口老龄化'))\n",
    ")\n",
    "\n",
    "line.render('./html/us_population_by_age.html')"
   ]
  }
 ],
 "metadata": {
  "kernelspec": {
   "display_name": "Python 3 (ipykernel)",
   "language": "python",
   "name": "python3"
  },
  "language_info": {
   "codemirror_mode": {
    "name": "ipython",
    "version": 3
   },
   "file_extension": ".py",
   "mimetype": "text/x-python",
   "name": "python",
   "nbconvert_exporter": "python",
   "pygments_lexer": "ipython3",
   "version": "3.9.12"
  },
  "vscode": {
   "interpreter": {
    "hash": "49cb93f377a7abe7414b7b0f21fb3017538004a126cf690fb524202736b7fb92"
   }
  }
 },
 "nbformat": 4,
 "nbformat_minor": 2
}
